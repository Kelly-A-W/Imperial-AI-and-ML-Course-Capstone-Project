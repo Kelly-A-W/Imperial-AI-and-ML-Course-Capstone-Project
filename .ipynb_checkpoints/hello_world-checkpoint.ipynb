{
  "cells": [
    {
      "cell_type": "markdown",
      "metadata": {},
      "source": [
        "# Hello World Jupyter Notebook\n",
        "\n",
        "A simple Jupyter notebook that prints \"Hello, World!\"\n"
      ]
    },
    {
      "cell_type": "code",
      "execution_count": null,
      "metadata": {},
      "outputs": [],
      "source": [
        "# Import any necessary libraries\n",
        "import sys\n",
        "print(f\"Python version: {sys.version}\")\n"
      ]
    },
    {
      "cell_type": "code",
      "execution_count": null,
      "metadata": {},
      "outputs": [],
      "source": [
        "# Define the main function\n",
        "def main():\n",
        "    print(\"Hello, World!\")\n",
        "    return \"Hello, World!\"\n"
      ]
    },
    {
      "cell_type": "code",
      "execution_count": null,
      "metadata": {},
      "outputs": [],
      "source": [
        "# Execute the main function\n",
        "result = main()\n",
        "print(f\"Function returned: {result}\")\n"
      ]
    }
  ],
  "metadata": {
    "language_info": {
      "name": "python"
    }
  },
  "nbformat": 4,
  "nbformat_minor": 2
}
